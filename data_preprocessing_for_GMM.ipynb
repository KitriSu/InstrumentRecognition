{
 "cells": [
  {
   "cell_type": "code",
   "execution_count": 34,
   "id": "42658ffd",
   "metadata": {},
   "outputs": [],
   "source": [
    "# convert mp3 files into wav format\n",
    "# 7 classes\n",
    "# guitar: 106;  flute: 884; violin: 1502; clarinet: 846; trumpet: 485; cello: 889; saxophone: 732;\n",
    "import os\n",
    "import shutil\n",
    "from pydub import AudioSegment\n",
    "\n",
    "path = \"/Users/Kaede/Desktop/final_project/all-samples/flute/\"\n",
    "\n",
    "#Change working directory\n",
    "os.chdir(path)\n",
    "\n",
    "audio_files = os.listdir()\n",
    "\n",
    "for file in audio_files:\n",
    "    #spliting the file into the name and the extension\n",
    "    name, ext = os.path.splitext(file)\n",
    "    if ext == \".mp3\":\n",
    "        try:\n",
    "            mp3_sound = AudioSegment.from_mp3(file)\n",
    "            mp3_sound = mp3_sound.set_frame_rate(16000) #change frame_length to 512\n",
    "            mp3_sound.export(\"/Users/Kaede/Desktop/final_project/wav_files/flute/{0}.wav\".format(name), format=\"wav\")\n",
    "        except:\n",
    "            continue"
   ]
  },
  {
   "cell_type": "code",
   "execution_count": 1,
   "id": "4356ba68",
   "metadata": {},
   "outputs": [],
   "source": [
    "# import packages\n",
    "import os\n",
    "import numpy as np\n",
    "from scipy.io.wavfile import read\n",
    "from sklearn.mixture import GaussianMixture\n",
    "import python_speech_features as mfcc\n",
    "from sklearn import preprocessing\n",
    "import warnings\n",
    "warnings.filterwarnings(\"ignore\")"
   ]
  },
  {
   "cell_type": "code",
   "execution_count": 3,
   "id": "d9b01ba4",
   "metadata": {},
   "outputs": [
    {
     "data": {
      "image/png": "[encoded data removed]",
      "text/plain": [
       "<Figure size 432x288 with 1 Axes>"
      ]
     },
     "metadata": {
      "needs_background": "light"
     },
     "output_type": "display_data"
    }
   ],
   "source": [
    "import matplotlib.pyplot as plt\n",
    "import numpy as np\n",
    "import wave\n",
    "import sys\n",
    "import os\n",
    "source = \"/Users/Kaede/Desktop/final_project/wav_files/flute//\"\n",
    "files = [os.path.join(source, f) for f in os.listdir(source) if f.endswith('.wav')]\n",
    "\n",
    "spf = wave.open(files[0], \"r\")\n",
    "\n",
    "# Extract Raw Audio from Wav File\n",
    "signal = spf.readframes(-1)\n",
    "signal = np.fromstring(signal, \"int16\")\n",
    "fs = spf.getframerate()\n",
    "\n",
    "# If Stereo\n",
    "if spf.getnchannels() == 2:\n",
    "    print(\"Just mono files\")\n",
    "    sys.exit(0)\n",
    "\n",
    "\n",
    "Time = np.linspace(0, len(signal) / fs, num=len(signal))\n",
    "\n",
    "plt.figure(1)\n",
    "plt.title(\"Signal Wave...\")\n",
    "plt.plot(Time, signal)\n",
    "plt.show()"
   ]
  },
  {
   "cell_type": "code",
   "execution_count": 2,
   "id": "6c636b14",
   "metadata": {},
   "outputs": [],
   "source": [
    "# use mfcc to extract infomation in a wav file\n",
    "def get_MFCC(sr, audio):\n",
    "    features = mfcc.mfcc(audio, sr, 0.025, 0.01, 13, appendEnergy=False)\n",
    "    features = preprocessing.scale(features)\n",
    "    return features"
   ]
  },
  {
   "cell_type": "code",
   "execution_count": 23,
   "id": "a996880b",
   "metadata": {},
   "outputs": [],
   "source": [
    "# read files from guitar\n",
    "source = \"/Users/Kaede/Desktop/final_project/wav_files/guitar/\"\n",
    "\n",
    "os.chdir(source)\n",
    "audio_files = os.listdir()"
   ]
  },
  {
   "cell_type": "code",
   "execution_count": 19,
   "id": "fcb142d3",
   "metadata": {},
   "outputs": [
    {
     "data": {
      "image/png": "[encoded data removed]",
      "text/plain": [
       "<Figure size 432x288 with 1 Axes>"
      ]
     },
     "metadata": {
      "needs_background": "light"
     },
     "output_type": "display_data"
    }
   ],
   "source": [
    "# picture of one wav file\n",
    "from scipy.io.wavfile import read\n",
    "import matplotlib.pyplot as plt\n",
    "\n",
    "# read audio samples\n",
    "input_data = read(audio_files[0])\n",
    "audio = input_data[1]\n",
    "# plot the first 1024 samples\n",
    "plt.plot(audio[0:1024])\n",
    "# label the axes\n",
    "plt.ylabel(\"Amplitude\")\n",
    "plt.xlabel(\"Time\")\n",
    "# set the title  \n",
    "plt.title(\"guitar_0\")\n",
    "# display the plot\n",
    "plt.show()"
   ]
  },
  {
   "cell_type": "code",
   "execution_count": 66,
   "id": "5bf5c671",
   "metadata": {},
   "outputs": [
    {
     "name": "stdout",
     "output_type": "stream",
     "text": [
      "(237, 7)\n"
     ]
    }
   ],
   "source": [
    "# extract info from one wav file and see the shape\n",
    "features = np.asarray(())\n",
    "vector = get_MFCC(sr, audio)\n",
    "if features.size == 0:\n",
    "    features = vector\n",
    "else:\n",
    "    features = np.vstack((features, vector))\n",
    "print(features.shape)"
   ]
  },
  {
   "cell_type": "code",
   "execution_count": 46,
   "id": "e671a919",
   "metadata": {},
   "outputs": [
    {
     "name": "stdout",
     "output_type": "stream",
     "text": [
      "guitar:  74\n",
      "flute:  618\n",
      "violin:  1051\n",
      "clarinet:  592\n",
      "trumpet:  339\n",
      "cello:  622\n",
      "saxophone:  512\n"
     ]
    }
   ],
   "source": [
    "# samples are divided into train(0.7) and test(0.3)\n",
    "train_num = 0.7\n",
    "# guitar: 106;  flute: 884; violin: 1502; clarinet: 846; trumpet: 485; cello: 889; saxophone: 732;\n",
    "\n",
    "print('guitar: ',int(106*train_num))\n",
    "print('flute: ', int(884*train_num))\n",
    "print('violin: ', int(1502*train_num))\n",
    "print('clarinet: ', int(846*train_num))\n",
    "print('trumpet: ', int(485*train_num))\n",
    "print('cello: ', int(889*train_num))\n",
    "print('saxophone: ', int(732*train_num))"
   ]
  },
  {
   "cell_type": "code",
   "execution_count": 3,
   "id": "7d3003b4",
   "metadata": {},
   "outputs": [
    {
     "name": "stdout",
     "output_type": "stream",
     "text": [
      "(38439, 13)\n"
     ]
    }
   ],
   "source": [
    "# extract info from wav files in guitar\n",
    "source = \"/Users/Kaede/Desktop/final_project/wav_files/guitar/\"\n",
    "files = [os.path.join(source, f) for f in os.listdir(source) if f.endswith('.wav')]\n",
    "guitar_features = np.asarray(())\n",
    "for f in files[0:74]:\n",
    "    sr, audio = read(f)\n",
    "    vector = get_MFCC(sr, audio)\n",
    "    if guitar_features.size == 0:\n",
    "        guitar_features = vector\n",
    "    else:\n",
    "        guitar_features = np.vstack((guitar_features, vector))\n",
    "print(guitar_features.shape)"
   ]
  },
  {
   "cell_type": "code",
   "execution_count": 4,
   "id": "dc2d1d46",
   "metadata": {},
   "outputs": [
    {
     "name": "stdout",
     "output_type": "stream",
     "text": [
      "(138415, 13)\n"
     ]
    }
   ],
   "source": [
    "# extract info from wav files in violin\n",
    "source = \"/Users/Kaede/Desktop/final_project/wav_files/violin/\"\n",
    "files = [os.path.join(source, f) for f in os.listdir(source) if f.endswith('.wav')]\n",
    "violin_features = np.asarray(())\n",
    "for f in files[0:1051]:\n",
    "    sr, audio = read(f)\n",
    "    vector = get_MFCC(sr, audio)\n",
    "    if violin_features.size == 0:\n",
    "        violin_features = vector\n",
    "    else:\n",
    "        violin_features = np.vstack((violin_features, vector))\n",
    "print(violin_features.shape)"
   ]
  },
  {
   "cell_type": "code",
   "execution_count": 5,
   "id": "5868f6ab",
   "metadata": {},
   "outputs": [
    {
     "name": "stdout",
     "output_type": "stream",
     "text": [
      "(135699, 13)\n"
     ]
    }
   ],
   "source": [
    "# extract info from wav files in clarinet\n",
    "source = \"/Users/Kaede/Desktop/final_project/wav_files/clarinet/\"\n",
    "files = [os.path.join(source, f) for f in os.listdir(source) if f.endswith('.wav')]\n",
    "clarinet_features = np.asarray(())\n",
    "for f in files[:592]:\n",
    "    sr, audio = read(f)\n",
    "    vector = get_MFCC(sr, audio)\n",
    "    if clarinet_features.size == 0:\n",
    "        clarinet_features = vector\n",
    "    else:\n",
    "        clarinet_features = np.vstack((clarinet_features, vector))\n",
    "print(clarinet_features.shape)"
   ]
  },
  {
   "cell_type": "code",
   "execution_count": 6,
   "id": "38db3c38",
   "metadata": {},
   "outputs": [
    {
     "name": "stdout",
     "output_type": "stream",
     "text": [
      "(129233, 13)\n"
     ]
    }
   ],
   "source": [
    "# extract info from wav files in flute\n",
    "source = \"/Users/Kaede/Desktop/final_project/wav_files/flute/\"\n",
    "files = [os.path.join(source, f) for f in os.listdir(source) if f.endswith('.wav')]\n",
    "flute_features = np.asarray(())\n",
    "for f in files[:618]:\n",
    "    sr, audio = read(f)\n",
    "    vector = get_MFCC(sr, audio)\n",
    "    if flute_features.size == 0:\n",
    "        flute_features = vector\n",
    "    else:\n",
    "        flute_features = np.vstack((flute_features, vector))\n",
    "print(flute_features.shape)"
   ]
  },
  {
   "cell_type": "code",
   "execution_count": 7,
   "id": "4bc9fd21",
   "metadata": {},
   "outputs": [
    {
     "name": "stdout",
     "output_type": "stream",
     "text": [
      "(96328, 13)\n"
     ]
    }
   ],
   "source": [
    "# extract info from wav files in saxophone\n",
    "source = \"/Users/Kaede/Desktop/final_project/wav_files/saxophone/\"\n",
    "files = [os.path.join(source, f) for f in os.listdir(source) if f.endswith('.wav')]\n",
    "saxophone_features = np.asarray(())\n",
    "for f in files[:512]:\n",
    "    sr, audio = read(f)\n",
    "    vector = get_MFCC(sr, audio)\n",
    "    if saxophone_features.size == 0:\n",
    "        saxophone_features = vector\n",
    "    else:\n",
    "        saxophone_features = np.vstack((saxophone_features, vector))\n",
    "print(saxophone_features.shape)"
   ]
  },
  {
   "cell_type": "code",
   "execution_count": 8,
   "id": "770d7575",
   "metadata": {},
   "outputs": [
    {
     "name": "stdout",
     "output_type": "stream",
     "text": [
      "(110218, 13)\n"
     ]
    }
   ],
   "source": [
    "# extract info from wav files in cello\n",
    "source = \"/Users/Kaede/Desktop/final_project/wav_files/cello/\"\n",
    "files = [os.path.join(source, f) for f in os.listdir(source) if f.endswith('.wav')]\n",
    "cello_features = np.asarray(())\n",
    "for f in files[:622]:\n",
    "    sr, audio = read(f)\n",
    "    vector = get_MFCC(sr, audio)\n",
    "    if cello_features.size == 0:\n",
    "        cello_features = vector\n",
    "    else:\n",
    "        cello_features = np.vstack((cello_features, vector))\n",
    "print(cello_features.shape)"
   ]
  },
  {
   "cell_type": "code",
   "execution_count": 9,
   "id": "1bc0bb1f",
   "metadata": {},
   "outputs": [
    {
     "name": "stdout",
     "output_type": "stream",
     "text": [
      "(94133, 13)\n"
     ]
    }
   ],
   "source": [
    "# extract info from wav files in trumpet\n",
    "source = \"/Users/Kaede/Desktop/final_project/wav_files/trumpet/\"\n",
    "files = [os.path.join(source, f) for f in os.listdir(source) if f.endswith('.wav')]\n",
    "trumpet_features = np.asarray(())\n",
    "for f in files[:339]:\n",
    "    sr, audio = read(f)\n",
    "    vector = get_MFCC(sr, audio)\n",
    "    if trumpet_features.size == 0:\n",
    "        trumpet_features = vector\n",
    "    else:\n",
    "        trumpet_features = np.vstack((trumpet_features, vector))\n",
    "print(trumpet_features.shape)"
   ]
  },
  {
   "cell_type": "code",
   "execution_count": 10,
   "id": "b01976c8",
   "metadata": {},
   "outputs": [],
   "source": [
    "# save features extracting by mfcc into npy files (for training)\n",
    "with open('/Users/Kaede/Desktop/final_project/guitar.npy', 'wb') as f:\n",
    "    np.save(f, guitar_features)\n",
    "with open('/Users/Kaede/Desktop/final_project/violin.npy', 'wb') as f:\n",
    "    np.save(f, violin_features)\n",
    "with open('/Users/Kaede/Desktop/final_project/flute.npy', 'wb') as f:\n",
    "    np.save(f, flute_features)\n",
    "with open('/Users/Kaede/Desktop/final_project/trumpet.npy', 'wb') as f:\n",
    "    np.save(f, trumpet_features)\n",
    "with open('/Users/Kaede/Desktop/final_project/clarinet.npy', 'wb') as f:\n",
    "    np.save(f, clarinet_features)\n",
    "with open('/Users/Kaede/Desktop/final_project/cello.npy', 'wb') as f:\n",
    "    np.save(f, cello_features)\n",
    "with open('/Users/Kaede/Desktop/final_project/saxophone.npy', 'wb') as f:\n",
    "    np.save(f, saxophone_features)"
   ]
  },
  {
   "cell_type": "code",
   "execution_count": null,
   "id": "96daa372",
   "metadata": {},
   "outputs": [],
   "source": []
  }
 ],
 "metadata": {
  "kernelspec": {
   "display_name": "Python 3 (ipykernel)",
   "language": "python",
   "name": "python3"
  },
  "language_info": {
   "codemirror_mode": {
    "name": "ipython",
    "version": 3
   },
   "file_extension": ".py",
   "mimetype": "text/x-python",
   "name": "python",
   "nbconvert_exporter": "python",
   "pygments_lexer": "ipython3",
   "version": "3.9.13"
  }
 },
 "nbformat": 4,
 "nbformat_minor": 5
}
