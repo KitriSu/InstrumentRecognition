{
 "cells": [
  {
   "cell_type": "code",
   "execution_count": 2,
   "id": "1d8c6a59",
   "metadata": {},
   "outputs": [],
   "source": [
    "from sklearn.neighbors import KNeighborsClassifier\n",
    "import numpy as np\n",
    "with open('X_test.npy', 'rb') as f:\n",
    "    X_test = np.load(f)\n",
    "with open('y_test.npy', 'rb') as f:\n",
    "    y_test = np.load(f)\n",
    "with open('X_train.npy', 'rb') as f:\n",
    "    X_train = np.load(f)\n",
    "with open('y_train.npy', 'rb') as f:\n",
    "    y_train = np.load(f)"
   ]
  },
  {
   "cell_type": "code",
   "execution_count": null,
   "id": "1049b947",
   "metadata": {},
   "outputs": [],
   "source": [
    "# knn = KNeighborsClassifier(n_neighbors=5, weights='uniform', algorithm='auto', leaf_size=30, p=2,\n",
    "#                                    metric='minkowski', metric_params=None, n_jobs=1)\n",
    "#         knn.fit(self.finalList, self.classList)\n",
    "#         k_score = knn.score(self.testFinalList, self.testClassList)\n",
    "#         print(\"KNN Score: \", k_score)\n",
    "\n"
   ]
  },
  {
   "cell_type": "code",
   "execution_count": 51,
   "id": "faea19d3",
   "metadata": {},
   "outputs": [],
   "source": [
    "knn = KNeighborsClassifier(n_neighbors=4, weights='distance', algorithm='auto', leaf_size=30, p=2,\n",
    "                         metric='minkowski', metric_params=None, n_jobs=1)"
   ]
  },
  {
   "cell_type": "code",
   "execution_count": 52,
   "id": "484da0cc",
   "metadata": {},
   "outputs": [
    {
     "name": "stdout",
     "output_type": "stream",
     "text": [
      "Training completed in time:  0:00:00.004478\n"
     ]
    }
   ],
   "source": [
    "from datetime import datetime \n",
    "start = datetime.now()\n",
    "knn.fit(X_train, y_train)\n",
    "duration = datetime.now() - start\n",
    "print(\"Training completed in time: \", duration)"
   ]
  },
  {
   "cell_type": "code",
   "execution_count": 53,
   "id": "8f7e7787",
   "metadata": {},
   "outputs": [
    {
     "name": "stdout",
     "output_type": "stream",
     "text": [
      "0.9333740831295844\n"
     ]
    }
   ],
   "source": [
    "from sklearn.metrics import accuracy_score\n",
    "y_pred = knn.predict(X_test)\n",
    "score = accuracy_score(y_test,y_pred)\n",
    "print(score)"
   ]
  },
  {
   "cell_type": "code",
   "execution_count": 41,
   "id": "1eb69935",
   "metadata": {},
   "outputs": [],
   "source": [
    "from sklearn.cluster import KMeans\n",
    "kmeans = KMeans(n_clusters=7)"
   ]
  },
  {
   "cell_type": "code",
   "execution_count": 42,
   "id": "47bf747c",
   "metadata": {},
   "outputs": [
    {
     "name": "stdout",
     "output_type": "stream",
     "text": [
      "Training completed in time:  0:00:00.176036\n"
     ]
    }
   ],
   "source": [
    "start = datetime.now()\n",
    "kmeans.fit(X_train, y_train)\n",
    "duration = datetime.now() - start\n",
    "print(\"Training completed in time: \", duration)\n"
   ]
  },
  {
   "cell_type": "code",
   "execution_count": 43,
   "id": "d310ac1a",
   "metadata": {},
   "outputs": [
    {
     "name": "stdout",
     "output_type": "stream",
     "text": [
      "0.11552567237163815\n"
     ]
    }
   ],
   "source": [
    "y_pred = kmeans.predict(X_test)\n",
    "score = accuracy_score(y_test,y_pred)\n",
    "print(score)"
   ]
  },
  {
   "cell_type": "code",
   "execution_count": 44,
   "id": "9374dd9a",
   "metadata": {},
   "outputs": [
    {
     "name": "stdout",
     "output_type": "stream",
     "text": [
      "Decision tree score1:  0.5400340562268677 Adaboost score2:  0.7448631545634745\n"
     ]
    }
   ],
   "source": [
    "from sklearn.tree import DecisionTreeRegressor\n",
    "from sklearn.ensemble import AdaBoostRegressor\n",
    "regr_1 = DecisionTreeRegressor(max_depth=10)\n",
    "regr_2 = AdaBoostRegressor(DecisionTreeRegressor(max_depth=10), n_estimators=300)\n",
    "regr_1.fit(X_train, y_train)\n",
    "regr_2.fit(X_train, y_train)\n",
    "y_1 = regr_1.predict(X_test)\n",
    "y_2 = regr_2.predict(X_test)\n",
    "score1 = regr_1.score(X_test, y_test)\n",
    "score2 = regr_2.score(X_test, y_test)\n",
    "print(\"Decision tree score1: \", score1, \"Adaboost score2: \", score2)"
   ]
  },
  {
   "cell_type": "code",
   "execution_count": 45,
   "id": "43eb3984",
   "metadata": {},
   "outputs": [
    {
     "name": "stdout",
     "output_type": "stream",
     "text": [
      "Training completed in time:  0:00:00.025364\n"
     ]
    }
   ],
   "source": [
    "start = datetime.now()\n",
    "regr_1.fit(X_train, y_train)\n",
    "duration = datetime.now() - start\n",
    "print(\"Training completed in time: \", duration)\n"
   ]
  },
  {
   "cell_type": "code",
   "execution_count": 46,
   "id": "1f3acbfa",
   "metadata": {},
   "outputs": [
    {
     "name": "stdout",
     "output_type": "stream",
     "text": [
      "Training completed in time:  0:00:04.370696\n"
     ]
    }
   ],
   "source": [
    "start = datetime.now()\n",
    "regr_2.fit(X_train, y_train)\n",
    "duration = datetime.now() - start\n",
    "print(\"Training completed in time: \", duration)"
   ]
  },
  {
   "cell_type": "code",
   "execution_count": 47,
   "id": "305a032c",
   "metadata": {},
   "outputs": [
    {
     "name": "stdout",
     "output_type": "stream",
     "text": [
      "Decision tree score1:  0.5386213984569164 Adaboost score2:  0.7480397931216799\n"
     ]
    }
   ],
   "source": [
    "y_1 = regr_1.predict(X_test)\n",
    "y_2 = regr_2.predict(X_test)\n",
    "score1 = regr_1.score(X_test, y_test)\n",
    "score2 = regr_2.score(X_test, y_test)\n",
    "print(\"Decision tree score1: \", score1, \"Adaboost score2: \", score2)"
   ]
  },
  {
   "cell_type": "code",
   "execution_count": null,
   "id": "6e3d810a",
   "metadata": {},
   "outputs": [],
   "source": []
  }
 ],
 "metadata": {
  "kernelspec": {
   "display_name": "Python 3 (ipykernel)",
   "language": "python",
   "name": "python3"
  },
  "language_info": {
   "codemirror_mode": {
    "name": "ipython",
    "version": 3
   },
   "file_extension": ".py",
   "mimetype": "text/x-python",
   "name": "python",
   "nbconvert_exporter": "python",
   "pygments_lexer": "ipython3",
   "version": "3.9.13"
  }
 },
 "nbformat": 4,
 "nbformat_minor": 5
}
