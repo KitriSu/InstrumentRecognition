{
 "cells": [
  {
   "cell_type": "code",
   "execution_count": 1,
   "id": "019064b5",
   "metadata": {},
   "outputs": [
    {
     "name": "stderr",
     "output_type": "stream",
     "text": [
      "OMP: Info #276: omp_set_nested routine deprecated, please use omp_set_max_active_levels instead.\n"
     ]
    }
   ],
   "source": [
    "import os\n",
    "import librosa\n",
    "import librosa.display\n",
    "import IPython.display as ipd\n",
    "import matplotlib.pyplot as plt\n",
    "import numpy as np"
   ]
  },
  {
   "cell_type": "code",
   "execution_count": 4,
   "id": "86ae1bbd",
   "metadata": {},
   "outputs": [
    {
     "name": "stdout",
     "output_type": "stream",
     "text": [
      "(13, 182)\n",
      "(13,)\n"
     ]
    },
    {
     "data": {
      "image/png": "[encoded data removed]",
      "text/plain": [
       "<Figure size 1800x720 with 2 Axes>"
      ]
     },
     "metadata": {
      "needs_background": "light"
     },
     "output_type": "display_data"
    }
   ],
   "source": [
    "source = \"/Users/Kaede/Desktop/final_project/wav_files/guitar/\"\n",
    "files = [os.path.join(source, f) for f in os.listdir(source) if f.endswith('.wav')]\n",
    "signal, sr = librosa.load(files[1])\n",
    "mfccs = librosa.feature.mfcc(y=signal, n_mfcc=13, sr=sr)\n",
    "print(mfccs.shape)\n",
    "mean_mfccs = np.mean(mfccs, axis=1)\n",
    "print(mean_mfccs.shape)\n",
    "# visualize mfccs\n",
    "plt.figure(figsize=(25,10))\n",
    "librosa.display.specshow(mfccs,x_axis='time',sr=sr)\n",
    "plt.colorbar(format=\"%+2f\")\n",
    "plt.show()"
   ]
  },
  {
   "cell_type": "markdown",
   "id": "84c6fef9",
   "metadata": {},
   "source": [
    "### prepare the data"
   ]
  },
  {
   "cell_type": "code",
   "execution_count": 13,
   "id": "8e1b9c2b",
   "metadata": {},
   "outputs": [],
   "source": [
    "X_train = []\n",
    "X_test = []\n",
    "y_train = []\n",
    "y_test = []"
   ]
  },
  {
   "cell_type": "code",
   "execution_count": 14,
   "id": "f3a5d383",
   "metadata": {},
   "outputs": [],
   "source": [
    "# data split (0.7)\n",
    "# guitar(0):  74   \n",
    "# flute(1):  618\n",
    "# violin(2):  1051\n",
    "# clarinet(3):  592\n",
    "# trumpet(4):  339\n",
    "# cello(5):  622\n",
    "# saxophone(6):  512"
   ]
  },
  {
   "cell_type": "code",
   "execution_count": 15,
   "id": "8d00af40",
   "metadata": {},
   "outputs": [],
   "source": [
    "source = \"/Users/Kaede/Desktop/final_project/wav_files/guitar/\"\n",
    "files = [os.path.join(source, f) for f in os.listdir(source) if f.endswith('.wav')]\n",
    "for i in range(len(files)):\n",
    "    signal, sr = librosa.load(files[i])\n",
    "    mfccs = librosa.feature.mfcc(y=signal, n_mfcc=13, sr=sr)\n",
    "    mean_mfccs = np.mean(mfccs, axis=1)\n",
    "    if i < 74:\n",
    "        X_train.append(mean_mfccs)\n",
    "        y_train.append(0)\n",
    "    else:\n",
    "        X_test.append(mean_mfccs)\n",
    "        y_test.append(0)"
   ]
  },
  {
   "cell_type": "code",
   "execution_count": 16,
   "id": "ef71f8cb",
   "metadata": {},
   "outputs": [],
   "source": [
    "source = \"/Users/Kaede/Desktop/final_project/wav_files/flute/\"\n",
    "files = [os.path.join(source, f) for f in os.listdir(source) if f.endswith('.wav')]\n",
    "for i in range(len(files)):\n",
    "    signal, sr = librosa.load(files[i])\n",
    "    mfccs = librosa.feature.mfcc(y=signal, n_mfcc=13, sr=sr)\n",
    "    mean_mfccs = np.mean(mfccs, axis=1)\n",
    "    if i < 618:\n",
    "        X_train.append(mean_mfccs)\n",
    "        y_train.append(1)\n",
    "    else:\n",
    "        X_test.append(mean_mfccs)\n",
    "        y_test.append(1)"
   ]
  },
  {
   "cell_type": "code",
   "execution_count": 17,
   "id": "2bd624e1",
   "metadata": {},
   "outputs": [],
   "source": [
    "source = \"/Users/Kaede/Desktop/final_project/wav_files/violin/\"\n",
    "files = [os.path.join(source, f) for f in os.listdir(source) if f.endswith('.wav')]\n",
    "for i in range(len(files)):\n",
    "    signal, sr = librosa.load(files[i])\n",
    "    mfccs = librosa.feature.mfcc(y=signal, n_mfcc=13, sr=sr)\n",
    "    mean_mfccs = np.mean(mfccs, axis=1)\n",
    "    if i < 1051:\n",
    "        X_train.append(mean_mfccs)\n",
    "        y_train.append(2)\n",
    "    else:\n",
    "        X_test.append(mean_mfccs)\n",
    "        y_test.append(2)"
   ]
  },
  {
   "cell_type": "code",
   "execution_count": 18,
   "id": "055886f7",
   "metadata": {},
   "outputs": [],
   "source": [
    "source = \"/Users/Kaede/Desktop/final_project/wav_files/clarinet/\"\n",
    "files = [os.path.join(source, f) for f in os.listdir(source) if f.endswith('.wav')]\n",
    "for i in range(len(files)):\n",
    "    signal, sr = librosa.load(files[i])\n",
    "    mfccs = librosa.feature.mfcc(y=signal, n_mfcc=13, sr=sr)\n",
    "    mean_mfccs = np.mean(mfccs, axis=1)\n",
    "    if i < 592:\n",
    "        X_train.append(mean_mfccs)\n",
    "        y_train.append(3)\n",
    "    else:\n",
    "        X_test.append(mean_mfccs)\n",
    "        y_test.append(3)"
   ]
  },
  {
   "cell_type": "code",
   "execution_count": 19,
   "id": "5fd17635",
   "metadata": {},
   "outputs": [],
   "source": [
    "source = \"/Users/Kaede/Desktop/final_project/wav_files/trumpet/\"\n",
    "files = [os.path.join(source, f) for f in os.listdir(source) if f.endswith('.wav')]\n",
    "for i in range(len(files)):\n",
    "    signal, sr = librosa.load(files[i])\n",
    "    mfccs = librosa.feature.mfcc(y=signal, n_mfcc=13, sr=sr)\n",
    "    mean_mfccs = np.mean(mfccs, axis=1)\n",
    "    if i < 339:\n",
    "        X_train.append(mean_mfccs)\n",
    "        y_train.append(4)\n",
    "    else:\n",
    "        X_test.append(mean_mfccs)\n",
    "        y_test.append(4)"
   ]
  },
  {
   "cell_type": "code",
   "execution_count": 20,
   "id": "f96d5dbd",
   "metadata": {},
   "outputs": [],
   "source": [
    "source = \"/Users/Kaede/Desktop/final_project/wav_files/cello/\"\n",
    "files = [os.path.join(source, f) for f in os.listdir(source) if f.endswith('.wav')]\n",
    "for i in range(len(files)):\n",
    "    signal, sr = librosa.load(files[i])\n",
    "    mfccs = librosa.feature.mfcc(y=signal, n_mfcc=13, sr=sr)\n",
    "    mean_mfccs = np.mean(mfccs, axis=1)\n",
    "    if i < 622:\n",
    "        X_train.append(mean_mfccs)\n",
    "        y_train.append(5)\n",
    "    else:\n",
    "        X_test.append(mean_mfccs)\n",
    "        y_test.append(5)"
   ]
  },
  {
   "cell_type": "code",
   "execution_count": 21,
   "id": "4750b006",
   "metadata": {},
   "outputs": [],
   "source": [
    "source = \"/Users/Kaede/Desktop/final_project/wav_files/saxophone/\"\n",
    "files = [os.path.join(source, f) for f in os.listdir(source) if f.endswith('.wav')]\n",
    "for i in range(len(files)):\n",
    "    signal, sr = librosa.load(files[i])\n",
    "    mfccs = librosa.feature.mfcc(y=signal, n_mfcc=13, sr=sr)\n",
    "    mean_mfccs = np.mean(mfccs, axis=1)\n",
    "    if i < 512:\n",
    "        X_train.append(mean_mfccs)\n",
    "        y_train.append(6)\n",
    "    else:\n",
    "        X_test.append(mean_mfccs)\n",
    "        y_test.append(6)"
   ]
  },
  {
   "cell_type": "code",
   "execution_count": 25,
   "id": "bd4774d3",
   "metadata": {},
   "outputs": [
    {
     "data": {
      "text/html": [
       "<style>#sk-container-id-2 {color: black;background-color: white;}#sk-container-id-2 pre{padding: 0;}#sk-container-id-2 div.sk-toggleable {background-color: white;}#sk-container-id-2 label.sk-toggleable__label {cursor: pointer;display: block;width: 100%;margin-bottom: 0;padding: 0.3em;box-sizing: border-box;text-align: center;}#sk-container-id-2 label.sk-toggleable__label-arrow:before {content: \"▸\";float: left;margin-right: 0.25em;color: #696969;}#sk-container-id-2 label.sk-toggleable__label-arrow:hover:before {color: black;}#sk-container-id-2 div.sk-estimator:hover label.sk-toggleable__label-arrow:before {color: black;}#sk-container-id-2 div.sk-toggleable__content {max-height: 0;max-width: 0;overflow: hidden;text-align: left;background-color: #f0f8ff;}#sk-container-id-2 div.sk-toggleable__content pre {margin: 0.2em;color: black;border-radius: 0.25em;background-color: #f0f8ff;}#sk-container-id-2 input.sk-toggleable__control:checked~div.sk-toggleable__content {max-height: 200px;max-width: 100%;overflow: auto;}#sk-container-id-2 input.sk-toggleable__control:checked~label.sk-toggleable__label-arrow:before {content: \"▾\";}#sk-container-id-2 div.sk-estimator input.sk-toggleable__control:checked~label.sk-toggleable__label {background-color: #d4ebff;}#sk-container-id-2 div.sk-label input.sk-toggleable__control:checked~label.sk-toggleable__label {background-color: #d4ebff;}#sk-container-id-2 input.sk-hidden--visually {border: 0;clip: rect(1px 1px 1px 1px);clip: rect(1px, 1px, 1px, 1px);height: 1px;margin: -1px;overflow: hidden;padding: 0;position: absolute;width: 1px;}#sk-container-id-2 div.sk-estimator {font-family: monospace;background-color: #f0f8ff;border: 1px dotted black;border-radius: 0.25em;box-sizing: border-box;margin-bottom: 0.5em;}#sk-container-id-2 div.sk-estimator:hover {background-color: #d4ebff;}#sk-container-id-2 div.sk-parallel-item::after {content: \"\";width: 100%;border-bottom: 1px solid gray;flex-grow: 1;}#sk-container-id-2 div.sk-label:hover label.sk-toggleable__label {background-color: #d4ebff;}#sk-container-id-2 div.sk-serial::before {content: \"\";position: absolute;border-left: 1px solid gray;box-sizing: border-box;top: 0;bottom: 0;left: 50%;z-index: 0;}#sk-container-id-2 div.sk-serial {display: flex;flex-direction: column;align-items: center;background-color: white;padding-right: 0.2em;padding-left: 0.2em;position: relative;}#sk-container-id-2 div.sk-item {position: relative;z-index: 1;}#sk-container-id-2 div.sk-parallel {display: flex;align-items: stretch;justify-content: center;background-color: white;position: relative;}#sk-container-id-2 div.sk-item::before, #sk-container-id-2 div.sk-parallel-item::before {content: \"\";position: absolute;border-left: 1px solid gray;box-sizing: border-box;top: 0;bottom: 0;left: 50%;z-index: -1;}#sk-container-id-2 div.sk-parallel-item {display: flex;flex-direction: column;z-index: 1;position: relative;background-color: white;}#sk-container-id-2 div.sk-parallel-item:first-child::after {align-self: flex-end;width: 50%;}#sk-container-id-2 div.sk-parallel-item:last-child::after {align-self: flex-start;width: 50%;}#sk-container-id-2 div.sk-parallel-item:only-child::after {width: 0;}#sk-container-id-2 div.sk-dashed-wrapped {border: 1px dashed gray;margin: 0 0.4em 0.5em 0.4em;box-sizing: border-box;padding-bottom: 0.4em;background-color: white;}#sk-container-id-2 div.sk-label label {font-family: monospace;font-weight: bold;display: inline-block;line-height: 1.2em;}#sk-container-id-2 div.sk-label-container {text-align: center;}#sk-container-id-2 div.sk-container {/* jupyter's `normalize.less` sets `[hidden] { display: none; }` but bootstrap.min.css set `[hidden] { display: none !important; }` so we also need the `!important` here to be able to override the default hidden behavior on the sphinx rendered scikit-learn.org. See: https://github.com/scikit-learn/scikit-learn/issues/21755 */display: inline-block !important;position: relative;}#sk-container-id-2 div.sk-text-repr-fallback {display: none;}</style><div id=\"sk-container-id-2\" class=\"sk-top-container\"><div class=\"sk-text-repr-fallback\"><pre>SVC(decision_function_shape=&#x27;ovo&#x27;)</pre><b>In a Jupyter environment, please rerun this cell to show the HTML representation or trust the notebook. <br />On GitHub, the HTML representation is unable to render, please try loading this page with nbviewer.org.</b></div><div class=\"sk-container\" hidden><div class=\"sk-item\"><div class=\"sk-estimator sk-toggleable\"><input class=\"sk-toggleable__control sk-hidden--visually\" id=\"sk-estimator-id-2\" type=\"checkbox\" checked><label for=\"sk-estimator-id-2\" class=\"sk-toggleable__label sk-toggleable__label-arrow\">SVC</label><div class=\"sk-toggleable__content\"><pre>SVC(decision_function_shape=&#x27;ovo&#x27;)</pre></div></div></div></div></div>"
      ],
      "text/plain": [
       "SVC(decision_function_shape='ovo')"
      ]
     },
     "execution_count": 25,
     "metadata": {},
     "output_type": "execute_result"
    }
   ],
   "source": [
    "from sklearn import svm\n",
    "clf = svm.SVC(decision_function_shape='ovo')\n",
    "clf.fit(X_train, y_train)"
   ]
  },
  {
   "cell_type": "code",
   "execution_count": 31,
   "id": "f47a86ed",
   "metadata": {},
   "outputs": [
    {
     "name": "stdout",
     "output_type": "stream",
     "text": [
      "0.7334963325183375\n"
     ]
    }
   ],
   "source": [
    "y_predict = np.array(clf.predict(X_test))\n",
    "y_test = np.array(y_test)\n",
    "accuracy = np.sum(y_predict == y_test) / len(y_predict)\n",
    "print(accuracy)"
   ]
  },
  {
   "cell_type": "code",
   "execution_count": 45,
   "id": "961605ad",
   "metadata": {},
   "outputs": [
    {
     "name": "stdout",
     "output_type": "stream",
     "text": [
      "dict_keys([(0, 2), (0, 1), (0, 5), (1, 3), (1, 2), (1, 6), (2, 1), (2, 6), (2, 0), (3, 5), (3, 6), (3, 2), (3, 4), (3, 1), (4, 6), (4, 3), (4, 1), (4, 2), (4, 5), (5, 2), (6, 1), (6, 5), (6, 2), (6, 3), (6, 4)])\n",
      "dict_values([6, 13, 1, 29, 13, 7, 16, 1, 1, 25, 31, 24, 1, 5, 69, 15, 19, 6, 1, 76, 6, 13, 19, 36, 3])\n",
      "19 (5, 2)\n"
     ]
    }
   ],
   "source": [
    "diff = []\n",
    "for i in range(len(y_predict)):\n",
    "    if y_predict[i] != y_test[i]:\n",
    "        diff.append((y_test[i], y_predict[i]))\n",
    "from collections import Counter\n",
    "\n",
    "keys = Counter(diff).keys()\n",
    "values = Counter(diff).values()\n",
    "print(keys)\n",
    "print(values)\n",
    "print(list(values).index(max(list(values))), list(keys)[list(values).index(max(list(values)))])\n"
   ]
  },
  {
   "cell_type": "code",
   "execution_count": 46,
   "id": "c451af52",
   "metadata": {},
   "outputs": [],
   "source": [
    "# violin & cello"
   ]
  },
  {
   "cell_type": "code",
   "execution_count": 47,
   "id": "9122d337",
   "metadata": {},
   "outputs": [],
   "source": [
    "# save the processed data into files\n",
    "with open('/Users/Kaede/Desktop/final_project/X_test.npy', 'wb') as f:\n",
    "    np.save(f, np.array(X_test))\n",
    "with open('/Users/Kaede/Desktop/final_project/X_train.npy', 'wb') as f:\n",
    "    np.save(f, np.array(X_train))\n",
    "with open('/Users/Kaede/Desktop/final_project/y_test.npy', 'wb') as f:\n",
    "    np.save(f, np.array(y_test))\n",
    "with open('/Users/Kaede/Desktop/final_project/y_train.npy', 'wb') as f:\n",
    "    np.save(f, np.array(y_train))"
   ]
  },
  {
   "cell_type": "code",
   "execution_count": null,
   "id": "b7149870",
   "metadata": {},
   "outputs": [],
   "source": []
  }
 ],
 "metadata": {
  "kernelspec": {
   "display_name": "Python 3 (ipykernel)",
   "language": "python",
   "name": "python3"
  },
  "language_info": {
   "codemirror_mode": {
    "name": "ipython",
    "version": 3
   },
   "file_extension": ".py",
   "mimetype": "text/x-python",
   "name": "python",
   "nbconvert_exporter": "python",
   "pygments_lexer": "ipython3",
   "version": "3.9.13"
  }
 },
 "nbformat": 4,
 "nbformat_minor": 5
}
