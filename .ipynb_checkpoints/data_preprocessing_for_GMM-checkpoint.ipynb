{
 "cells": [
  {
   "cell_type": "code",
   "execution_count": 15,
   "id": "42658ffd",
   "metadata": {},
   "outputs": [],
   "source": [
    "# convert mp3 files into wav format\n",
    "# 7 classes\n",
    "# guitar: 106;  flute: 878; violin: 1502; clarinet: 846; trumpet: 485; cello: 889; saxophone: 732\n",
    "import os\n",
    "import shutil\n",
    "from pydub import AudioSegment\n",
    "\n",
    "path = \"/Users/Kaede/Desktop/final_project/all-samples/saxophone/\"\n",
    "\n",
    "#Change working directory\n",
    "os.chdir(path)\n",
    "\n",
    "audio_files = os.listdir()\n",
    "\n",
    "for file in audio_files:\n",
    "    #spliting the file into the name and the extension\n",
    "    name, ext = os.path.splitext(file)\n",
    "    if ext == \".mp3\":\n",
    "        try:\n",
    "            mp3_sound = AudioSegment.from_mp3(file)\n",
    "            mp3_sound.export(\"/Users/Kaede/Desktop/final_project/wav_files/saxophone/{0}.wav\".format(name), format=\"wav\")\n",
    "        except:\n",
    "            continue"
   ]
  },
  {
   "cell_type": "code",
   "execution_count": null,
   "id": "4356ba68",
   "metadata": {},
   "outputs": [],
   "source": []
  }
 ],
 "metadata": {
  "kernelspec": {
   "display_name": "Python 3 (ipykernel)",
   "language": "python",
   "name": "python3"
  },
  "language_info": {
   "codemirror_mode": {
    "name": "ipython",
    "version": 3
   },
   "file_extension": ".py",
   "mimetype": "text/x-python",
   "name": "python",
   "nbconvert_exporter": "python",
   "pygments_lexer": "ipython3",
   "version": "3.9.13"
  }
 },
 "nbformat": 4,
 "nbformat_minor": 5
}
