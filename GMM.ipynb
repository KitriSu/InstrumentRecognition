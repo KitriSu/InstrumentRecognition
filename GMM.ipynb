{
 "cells": [
  {
   "cell_type": "code",
   "execution_count": 1,
   "id": "5b0359f0",
   "metadata": {},
   "outputs": [
    {
     "name": "stdout",
     "output_type": "stream",
     "text": [
      "(38439, 13)\n"
     ]
    }
   ],
   "source": [
    "import numpy as np\n",
    "# read data saved from mfcc\n",
    "with open('guitar.npy', 'rb') as f:\n",
    "    guitar_samples = np.load(f)\n",
    "print(guitar_samples.shape) # ensure the data doesn't change"
   ]
  },
  {
   "cell_type": "code",
   "execution_count": 2,
   "id": "a8e44290",
   "metadata": {},
   "outputs": [],
   "source": [
    "# reload the train data\n",
    "with open('cello.npy', 'rb') as f:\n",
    "    cello_samples = np.load(f)\n",
    "with open('violin.npy', 'rb') as f:\n",
    "    violin_samples = np.load(f)\n",
    "with open('flute.npy', 'rb') as f:\n",
    "    flute_samples = np.load(f)\n",
    "with open('saxophone.npy', 'rb') as f:\n",
    "    saxophone_samples = np.load(f)\n",
    "with open('clarinet.npy', 'rb') as f:\n",
    "    clarinet_samples = np.load(f)\n",
    "with open('trumpet.npy', 'rb') as f:\n",
    "    trumpet_samples = np.load(f)"
   ]
  },
  {
   "cell_type": "code",
   "execution_count": 3,
   "id": "1525d520",
   "metadata": {},
   "outputs": [],
   "source": [
    "# import packages for GMM\n",
    "import os\n",
    "from scipy.io.wavfile import read\n",
    "from sklearn.mixture import GaussianMixture\n",
    "import python_speech_features as mfcc\n",
    "from sklearn import preprocessing"
   ]
  },
  {
   "cell_type": "code",
   "execution_count": 5,
   "id": "ef95f9ae",
   "metadata": {},
   "outputs": [
    {
     "name": "stdout",
     "output_type": "stream",
     "text": [
      "Training completed in time:  0:00:33.428034\n"
     ]
    }
   ],
   "source": [
    "# generate models\n",
    "from datetime import datetime \n",
    "start = datetime.now()\n",
    "guitar_gmm = GaussianMixture(n_components=7, max_iter=200, covariance_type='diag', n_init=3)\n",
    "guitar_gmm.fit(guitar_samples)\n",
    "\n",
    "cello_gmm = GaussianMixture(n_components=7, max_iter=200, covariance_type='diag', n_init=3)\n",
    "cello_gmm.fit(cello_samples)\n",
    "\n",
    "violin_gmm = GaussianMixture(n_components=7, max_iter=200, covariance_type='diag', n_init=3)\n",
    "violin_gmm.fit(violin_samples)\n",
    "\n",
    "flute_gmm = GaussianMixture(n_components=7, max_iter=200, covariance_type='diag', n_init=3)\n",
    "flute_gmm.fit(flute_samples)\n",
    "\n",
    "clarinet_gmm = GaussianMixture(n_components=7, max_iter=200, covariance_type='diag', n_init=3)\n",
    "clarinet_gmm.fit(clarinet_samples)\n",
    "\n",
    "saxophone_gmm = GaussianMixture(n_components=7, max_iter=200, covariance_type='diag', n_init=3)\n",
    "saxophone_gmm.fit(saxophone_samples)\n",
    "\n",
    "trumpet_gmm = GaussianMixture(n_components=7, max_iter=200, covariance_type='diag', n_init=3)\n",
    "trumpet_gmm.fit(trumpet_samples)\n",
    "duration = datetime.now() - start\n",
    "print(\"Training completed in time: \", duration)"
   ]
  },
  {
   "cell_type": "code",
   "execution_count": 6,
   "id": "b6056caf",
   "metadata": {},
   "outputs": [],
   "source": [
    "models = [guitar_gmm, cello_gmm, violin_gmm, flute_gmm, clarinet_gmm, saxophone_gmm, trumpet_gmm]\n",
    "classes = ['guitar', 'cello', 'violin', 'flute', 'clarinet', 'saxophone', 'trumpet']"
   ]
  },
  {
   "cell_type": "code",
   "execution_count": 9,
   "id": "50eb886c",
   "metadata": {},
   "outputs": [],
   "source": [
    "def get_MFCC(sr, audio):\n",
    "    features = mfcc.mfcc(audio, sr, 0.025, 0.01, 13, appendEnergy=False)\n",
    "    features = preprocessing.scale(features)\n",
    "    return features"
   ]
  },
  {
   "cell_type": "code",
   "execution_count": 10,
   "id": "951f45c1",
   "metadata": {},
   "outputs": [
    {
     "name": "stdout",
     "output_type": "stream",
     "text": [
      "guitar accuracy is  0.96875\n"
     ]
    }
   ],
   "source": [
    "# accuracy of guitar_gmm\n",
    "source = \"/Users/Kaede/Desktop/final_project/wav_files/guitar/\"\n",
    "files = [os.path.join(source, f) for f in os.listdir(source) if f.endswith('.wav')]\n",
    "count = 0.\n",
    "for f in files[74:]:\n",
    "    sr, audio = read(f)\n",
    "    features = get_MFCC(sr, audio)\n",
    "    scores = None\n",
    "    log_likelihood = np.zeros(len(models))\n",
    "    for i in range(len(models)):\n",
    "        gmm = models[i]  # checking with each model one by one\n",
    "        scores = np.array(gmm.score(features))\n",
    "        log_likelihood[i] = scores.sum()\n",
    "    winner = np.argmax(log_likelihood)\n",
    "    if classes[winner] == 'guitar':\n",
    "        count += 1\n",
    "print(\"guitar accuracy is \", count / len(files[74:]))"
   ]
  },
  {
   "cell_type": "code",
   "execution_count": 11,
   "id": "2f1ea4d5",
   "metadata": {},
   "outputs": [
    {
     "name": "stdout",
     "output_type": "stream",
     "text": [
      "cello accuracy is  0.6217228464419475\n"
     ]
    }
   ],
   "source": [
    "# accuracy of cello_gmm\n",
    "source = \"/Users/Kaede/Desktop/final_project/wav_files/cello/\"\n",
    "files = [os.path.join(source, f) for f in os.listdir(source) if f.endswith('.wav')]\n",
    "count = 0.\n",
    "for f in files[622:]:\n",
    "    sr, audio = read(f)\n",
    "    features = get_MFCC(sr, audio)\n",
    "    scores = None\n",
    "    log_likelihood = np.zeros(len(models))\n",
    "    for i in range(len(models)):\n",
    "        gmm = models[i]  # checking with each model one by one\n",
    "        scores = np.array(gmm.score(features))\n",
    "        log_likelihood[i] = scores.sum()\n",
    "    winner = np.argmax(log_likelihood)\n",
    "    if classes[winner] == 'cello':\n",
    "        count += 1\n",
    "print(\"cello accuracy is \", count / len(files[622:]))"
   ]
  },
  {
   "cell_type": "code",
   "execution_count": 12,
   "id": "f6a5d3cb",
   "metadata": {},
   "outputs": [
    {
     "name": "stdout",
     "output_type": "stream",
     "text": [
      "violin accuracy is  0.6341463414634146\n"
     ]
    }
   ],
   "source": [
    "# accuracy of violin_gmm\n",
    "source = \"/Users/Kaede/Desktop/final_project/wav_files/violin/\"\n",
    "files = [os.path.join(source, f) for f in os.listdir(source) if f.endswith('.wav')]\n",
    "count = 0.\n",
    "for f in files[1051:]:\n",
    "    sr, audio = read(f)\n",
    "    features = get_MFCC(sr, audio)\n",
    "    scores = None\n",
    "    log_likelihood = np.zeros(len(models))\n",
    "    for i in range(len(models)):\n",
    "        gmm = models[i]  # checking with each model one by one\n",
    "        scores = np.array(gmm.score(features))\n",
    "        log_likelihood[i] = scores.sum()\n",
    "    winner = np.argmax(log_likelihood)\n",
    "    if classes[winner] == 'violin':\n",
    "        count += 1\n",
    "print(\"violin accuracy is \", count / len(files[1051:]))"
   ]
  },
  {
   "cell_type": "code",
   "execution_count": 13,
   "id": "79ac2d60",
   "metadata": {},
   "outputs": [
    {
     "name": "stdout",
     "output_type": "stream",
     "text": [
      "flute accuracy is  0.7894736842105263\n"
     ]
    }
   ],
   "source": [
    "# accuracy of flute_gmm\n",
    "source = \"/Users/Kaede/Desktop/final_project/wav_files/flute/\"\n",
    "files = [os.path.join(source, f) for f in os.listdir(source) if f.endswith('.wav')]\n",
    "count = 0.\n",
    "for f in files[618:]:\n",
    "    sr, audio = read(f)\n",
    "    features = get_MFCC(sr, audio)\n",
    "    scores = None\n",
    "    log_likelihood = np.zeros(len(models))\n",
    "    for i in range(len(models)):\n",
    "        gmm = models[i]  # checking with each model one by one\n",
    "        scores = np.array(gmm.score(features))\n",
    "        log_likelihood[i] = scores.sum()\n",
    "    winner = np.argmax(log_likelihood)\n",
    "    if classes[winner] == 'flute':\n",
    "        count += 1\n",
    "print(\"flute accuracy is \", count / len(files[618:]))"
   ]
  },
  {
   "cell_type": "code",
   "execution_count": 14,
   "id": "5999306e",
   "metadata": {},
   "outputs": [
    {
     "name": "stdout",
     "output_type": "stream",
     "text": [
      "clarinet accuracy is  0.65748031496063\n"
     ]
    }
   ],
   "source": [
    "# accuracy of clarinet_gmm\n",
    "source = \"/Users/Kaede/Desktop/final_project/wav_files/clarinet/\"\n",
    "files = [os.path.join(source, f) for f in os.listdir(source) if f.endswith('.wav')]\n",
    "count = 0.\n",
    "for f in files[592:]:\n",
    "    sr, audio = read(f)\n",
    "    features = get_MFCC(sr, audio)\n",
    "    scores = None\n",
    "    log_likelihood = np.zeros(len(models))\n",
    "    for i in range(len(models)):\n",
    "        gmm = models[i]  # checking with each model one by one\n",
    "        scores = np.array(gmm.score(features))\n",
    "        log_likelihood[i] = scores.sum()\n",
    "    winner = np.argmax(log_likelihood)\n",
    "    if classes[winner] == 'clarinet':\n",
    "        count += 1\n",
    "print(\"clarinet accuracy is \", count / len(files[592:]))"
   ]
  },
  {
   "cell_type": "code",
   "execution_count": 15,
   "id": "f6951bea",
   "metadata": {},
   "outputs": [
    {
     "name": "stdout",
     "output_type": "stream",
     "text": [
      "saxophone accuracy is  0.36818181818181817\n",
      "0.19545454545454546\n",
      "0.1590909090909091\n",
      "0.08181818181818182\n",
      "0.19090909090909092\n"
     ]
    }
   ],
   "source": [
    "# accuracy of saxophone_gmm\n",
    "source = \"/Users/Kaede/Desktop/final_project/wav_files/saxophone/\"\n",
    "files = [os.path.join(source, f) for f in os.listdir(source) if f.endswith('.wav')]\n",
    "count = 0.\n",
    "cla_count = 0.\n",
    "flu_count = 0.\n",
    "tru_count = 0.\n",
    "str_count = 0.\n",
    "for f in files[512:]:\n",
    "    sr, audio = read(f)\n",
    "    features = get_MFCC(sr, audio)\n",
    "    scores = None\n",
    "    log_likelihood = np.zeros(len(models))\n",
    "    for i in range(len(models)):\n",
    "        gmm = models[i]  # checking with each model one by one\n",
    "        scores = np.array(gmm.score(features))\n",
    "        log_likelihood[i] = scores.sum()\n",
    "    winner = np.argmax(log_likelihood)\n",
    "    if classes[winner] == 'saxophone':\n",
    "        count += 1\n",
    "    if classes[winner] == 'clarinet':\n",
    "        cla_count += 1\n",
    "    if classes[winner] == 'flute':\n",
    "        flu_count += 1\n",
    "    if classes[winner] == 'trumpet':\n",
    "        tru_count += 1\n",
    "    if classes[winner] == 'cello' or classes[winner] == 'violin':\n",
    "        str_count += 1\n",
    "        \n",
    "    \n",
    "print(\"saxophone accuracy is \", count / len(files[512:]))\n",
    "print(cla_count/len(files[512:]))\n",
    "print(flu_count/len(files[512:]))\n",
    "print(tru_count/len(files[512:]))\n",
    "print(str_count/len(files[512:]))"
   ]
  },
  {
   "cell_type": "code",
   "execution_count": 16,
   "id": "7e15e77e",
   "metadata": {},
   "outputs": [
    {
     "name": "stdout",
     "output_type": "stream",
     "text": [
      "trumpet accuracy is  0.5\n"
     ]
    }
   ],
   "source": [
    "# accuracy of trumpet_gmm\n",
    "source = \"/Users/Kaede/Desktop/final_project/wav_files/trumpet/\"\n",
    "files = [os.path.join(source, f) for f in os.listdir(source) if f.endswith('.wav')]\n",
    "count = 0.\n",
    "for f in files[339:]:\n",
    "    sr, audio = read(f)\n",
    "    features = get_MFCC(sr, audio)\n",
    "    scores = None\n",
    "    log_likelihood = np.zeros(len(models))\n",
    "    for i in range(len(models)):\n",
    "        gmm = models[i]  # checking with each model one by one\n",
    "        scores = np.array(gmm.score(features))\n",
    "        log_likelihood[i] = scores.sum()\n",
    "    winner = np.argmax(log_likelihood)\n",
    "    if classes[winner] == 'trumpet':\n",
    "        count += 1\n",
    "print(\"trumpet accuracy is \", count / len(files[339:]))"
   ]
  },
  {
   "cell_type": "code",
   "execution_count": 17,
   "id": "f5d766d4",
   "metadata": {},
   "outputs": [
    {
     "data": {
      "text/plain": [
       "0.6485364293226196"
      ]
     },
     "execution_count": 17,
     "metadata": {},
     "output_type": "execute_result"
    }
   ],
   "source": [
    "(0.96875+0.6217228464419475+0.6341463414634146+0.7894736842105263+0.65748031496063+0.36818181818181817+0.5)/7"
   ]
  },
  {
   "cell_type": "code",
   "execution_count": null,
   "id": "2b2b4e30",
   "metadata": {},
   "outputs": [],
   "source": []
  }
 ],
 "metadata": {
  "kernelspec": {
   "display_name": "Python 3 (ipykernel)",
   "language": "python",
   "name": "python3"
  },
  "language_info": {
   "codemirror_mode": {
    "name": "ipython",
    "version": 3
   },
   "file_extension": ".py",
   "mimetype": "text/x-python",
   "name": "python",
   "nbconvert_exporter": "python",
   "pygments_lexer": "ipython3",
   "version": "3.9.13"
  }
 },
 "nbformat": 4,
 "nbformat_minor": 5
}
