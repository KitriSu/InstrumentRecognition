{
 "cells": [
  {
   "cell_type": "code",
   "execution_count": 1,
   "id": "832a08e6",
   "metadata": {},
   "outputs": [
    {
     "name": "stderr",
     "output_type": "stream",
     "text": [
      "OMP: Info #276: omp_set_nested routine deprecated, please use omp_set_max_active_levels instead.\n"
     ]
    }
   ],
   "source": [
    "import os\n",
    "import librosa\n",
    "import numpy as np\n",
    "from tqdm import tqdm\n",
    "from pydub import AudioSegment"
   ]
  },
  {
   "cell_type": "code",
   "execution_count": 12,
   "id": "e067e570",
   "metadata": {},
   "outputs": [],
   "source": [
    "def get_mfcc(file_path, n_mfcc=13, max_len=39):\n",
    "    signal, sr = librosa.load(file_path)\n",
    "    mfcc = librosa.feature.mfcc(y=signal, n_mfcc=n_mfcc, sr=sr)\n",
    "    \n",
    "    if (max_len > mfcc.shape[1]):\n",
    "        pad_width = max_len - mfcc.shape[1]\n",
    "        mfcc = np.pad(mfcc, pad_width=((0, 0), (0, pad_width)), mode='constant')\n",
    "    else:\n",
    "        mfcc = mfcc[:, :max_len]\n",
    "    \n",
    "    return mfcc\n",
    "def get_mfccs(file_path, n_mfcc=13):\n",
    "    signal, sr = librosa.load(file_path)\n",
    "    mfcc = librosa.feature.mfcc(y=signal, n_mfcc=n_mfcc, sr=sr)\n",
    "    \n",
    "    return mfcc\n"
   ]
  },
  {
   "cell_type": "code",
   "execution_count": 14,
   "id": "38b8e165",
   "metadata": {},
   "outputs": [
    {
     "name": "stdout",
     "output_type": "stream",
     "text": [
      "(13, 182)\n"
     ]
    }
   ],
   "source": [
    "source = \"/Users/Kaede/Desktop/final_project/wav_files/guitar/\"\n",
    "files = [os.path.join(source, f) for f in os.listdir(source) if f.endswith('.wav')]\n",
    "print(get_mfccs(files[1]).shape)"
   ]
  },
  {
   "cell_type": "code",
   "execution_count": null,
   "id": "3d9b54cb",
   "metadata": {},
   "outputs": [],
   "source": []
  }
 ],
 "metadata": {
  "kernelspec": {
   "display_name": "Python 3 (ipykernel)",
   "language": "python",
   "name": "python3"
  },
  "language_info": {
   "codemirror_mode": {
    "name": "ipython",
    "version": 3
   },
   "file_extension": ".py",
   "mimetype": "text/x-python",
   "name": "python",
   "nbconvert_exporter": "python",
   "pygments_lexer": "ipython3",
   "version": "3.9.13"
  }
 },
 "nbformat": 4,
 "nbformat_minor": 5
}
